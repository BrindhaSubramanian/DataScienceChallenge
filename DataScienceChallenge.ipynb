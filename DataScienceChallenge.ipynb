{
 "cells": [
  {
   "cell_type": "code",
   "execution_count": 25,
   "metadata": {
    "collapsed": true
   },
   "outputs": [],
   "source": [
    "import pandas as pd\n",
    "import numpy as np\n",
    "from spellchecker import SpellChecker\n",
    "from wordcloud import WordCloud, STOPWORDS\n",
    "import matplotlib.pyplot as plt\n",
    "from sklearn.model_selection import train_test_split\n",
    "from sklearn.ensemble import RandomForestClassifier\n",
    "from sklearn.metrics import confusion_matrix\n",
    "% matplotlib inline"
   ]
  },
  {
   "cell_type": "code",
   "execution_count": 2,
   "metadata": {
    "collapsed": true
   },
   "outputs": [],
   "source": [
    "#loading the dataset\n",
    "dsChallengeDF = pd.read_csv(\"B:/user-ct-test-collection-02.txt\", sep = '\\t')"
   ]
  },
  {
   "cell_type": "code",
   "execution_count": 3,
   "metadata": {
    "scrolled": true
   },
   "outputs": [
    {
     "data": {
      "text/html": [
       "<div>\n",
       "<style>\n",
       "    .dataframe thead tr:only-child th {\n",
       "        text-align: right;\n",
       "    }\n",
       "\n",
       "    .dataframe thead th {\n",
       "        text-align: left;\n",
       "    }\n",
       "\n",
       "    .dataframe tbody tr th {\n",
       "        vertical-align: top;\n",
       "    }\n",
       "</style>\n",
       "<table border=\"1\" class=\"dataframe\">\n",
       "  <thead>\n",
       "    <tr style=\"text-align: right;\">\n",
       "      <th></th>\n",
       "      <th>AnonID</th>\n",
       "      <th>Query</th>\n",
       "      <th>QueryTime</th>\n",
       "      <th>ItemRank</th>\n",
       "      <th>ClickURL</th>\n",
       "    </tr>\n",
       "  </thead>\n",
       "  <tbody>\n",
       "    <tr>\n",
       "      <th>0</th>\n",
       "      <td>479</td>\n",
       "      <td>family guy</td>\n",
       "      <td>2006-03-01 16:01:20</td>\n",
       "      <td>NaN</td>\n",
       "      <td>NaN</td>\n",
       "    </tr>\n",
       "    <tr>\n",
       "      <th>1</th>\n",
       "      <td>479</td>\n",
       "      <td>also sprach zarathustra</td>\n",
       "      <td>2006-03-02 14:48:55</td>\n",
       "      <td>NaN</td>\n",
       "      <td>NaN</td>\n",
       "    </tr>\n",
       "    <tr>\n",
       "      <th>2</th>\n",
       "      <td>479</td>\n",
       "      <td>family guy movie references</td>\n",
       "      <td>2006-03-03 22:37:46</td>\n",
       "      <td>1.0</td>\n",
       "      <td>http://www.familyguyfiles.com</td>\n",
       "    </tr>\n",
       "    <tr>\n",
       "      <th>3</th>\n",
       "      <td>479</td>\n",
       "      <td>top grossing movies of all time</td>\n",
       "      <td>2006-03-03 22:42:42</td>\n",
       "      <td>1.0</td>\n",
       "      <td>http://movieweb.com</td>\n",
       "    </tr>\n",
       "    <tr>\n",
       "      <th>4</th>\n",
       "      <td>479</td>\n",
       "      <td>top grossing movies of all time</td>\n",
       "      <td>2006-03-03 22:42:42</td>\n",
       "      <td>2.0</td>\n",
       "      <td>http://www.imdb.com</td>\n",
       "    </tr>\n",
       "  </tbody>\n",
       "</table>\n",
       "</div>"
      ],
      "text/plain": [
       "   AnonID                            Query            QueryTime  ItemRank  \\\n",
       "0     479                       family guy  2006-03-01 16:01:20       NaN   \n",
       "1     479          also sprach zarathustra  2006-03-02 14:48:55       NaN   \n",
       "2     479      family guy movie references  2006-03-03 22:37:46       1.0   \n",
       "3     479  top grossing movies of all time  2006-03-03 22:42:42       1.0   \n",
       "4     479  top grossing movies of all time  2006-03-03 22:42:42       2.0   \n",
       "\n",
       "                        ClickURL  \n",
       "0                            NaN  \n",
       "1                            NaN  \n",
       "2  http://www.familyguyfiles.com  \n",
       "3            http://movieweb.com  \n",
       "4            http://www.imdb.com  "
      ]
     },
     "execution_count": 3,
     "metadata": {},
     "output_type": "execute_result"
    }
   ],
   "source": [
    "dsChallengeDF.head()"
   ]
  },
  {
   "cell_type": "code",
   "execution_count": 11,
   "metadata": {},
   "outputs": [
    {
     "name": "stdout",
     "output_type": "stream",
     "text": [
      "(3451202, 11)\n"
     ]
    }
   ],
   "source": [
    "#Data Preprocessing\n",
    "dsChallengeDF = dsChallengeDF.drop_duplicates(subset = ['AnonID','Query','QueryTime','ItemRank', 'ClickURL'], keep = 'first')\n",
    "print(dsChallengeDF.shape)"
   ]
  },
  {
   "cell_type": "code",
   "execution_count": 12,
   "metadata": {
    "collapsed": true
   },
   "outputs": [],
   "source": [
    "#formatting date time field\n",
    "dsChallengeDF['QueryTime'] = pd.to_datetime(dsChallengeDF['QueryTime'])"
   ]
  },
  {
   "cell_type": "code",
   "execution_count": 13,
   "metadata": {
    "collapsed": true
   },
   "outputs": [],
   "source": [
    "#Feature Engineering Methods\n",
    "\n",
    "#Creation of Weekday from QueryTime\n",
    "weekdayTuple = ('Monday','Tuesday','Wednesday','Thursday','Friday','Saturday','Sunday')\n",
    "def weekday(x):\n",
    "   return weekdayTuple[x]\n",
    "\n",
    "dsChallengeDF['weekday'] = dsChallengeDF['QueryTime'].dt.weekday\n",
    "dsChallengeDF['weedkayCorrected'] = dsChallengeDF['weekday'].apply(lambda row: weekday(row))"
   ]
  },
  {
   "cell_type": "code",
   "execution_count": 14,
   "metadata": {
    "collapsed": true
   },
   "outputs": [],
   "source": [
    "#Creation of Time of the day from QueryTime\n",
    "\n",
    "def timeOfDay(x):\n",
    "    if x>6 and x<=11:\n",
    "        return \"morning\"\n",
    "    elif x>11 and x <15:\n",
    "        return \"afternoon\"\n",
    "    elif x>=15 and x <=20:\n",
    "        return \"evening\"\n",
    "    else: \n",
    "        return \"night\"\n",
    "    \n",
    "dsChallengeDF['TimeOfDay'] = dsChallengeDF['QueryTime'].dt.hour.apply(lambda row: timeOfDay(row))    "
   ]
  },
  {
   "cell_type": "code",
   "execution_count": 15,
   "metadata": {
    "collapsed": true
   },
   "outputs": [],
   "source": [
    "#Creation of a column with Number of words in the query as values\n",
    "\n",
    "def numOfWords(x):\n",
    "   return len(x.split())\n",
    "    \n",
    "dsChallengeDF['NumOfWords'] = dsChallengeDF['Query'].apply(lambda row: numOfWords(row))    "
   ]
  },
  {
   "cell_type": "code",
   "execution_count": 16,
   "metadata": {
    "collapsed": true
   },
   "outputs": [],
   "source": [
    "#Creation of a column for Click - 0 - If the user hasn't clicked, 1 otherwise\n",
    "\n",
    "dsChallengeDF['Click'] = np.where(dsChallengeDF['ItemRank'].isnull(),0,1)\n"
   ]
  },
  {
   "cell_type": "code",
   "execution_count": 17,
   "metadata": {
    "collapsed": true,
    "scrolled": true
   },
   "outputs": [],
   "source": [
    "#Creation of a column to indicate spelling mistakes in query search\n",
    "spell = SpellChecker()\n",
    "def spellChecker(x):\n",
    "    misspelled = spell.unknown(x)\n",
    "    if misspelled:\n",
    "        return 0\n",
    "    else:\n",
    "        return 1\n",
    "\n",
    "\n",
    "dsChallengeDF['is_missSpelled'] = dsChallengeDF['Query'].apply(lambda row: spellChecker(row))    \n"
   ]
  },
  {
   "cell_type": "code",
   "execution_count": 18,
   "metadata": {
    "scrolled": true
   },
   "outputs": [
    {
     "name": "stdout",
     "output_type": "stream",
     "text": [
      "Total number of queries logged in the given dataset: 3451202\n",
      "Total unique Queries: 1244496\n",
      "Total unique URLS: 389403\n",
      "Total number of users (unique): 66000\n",
      "Average query per user: 52.2909393939394\n",
      "Total number of queries with click events: 1783961\n",
      "Total number of queries without click events: 1667241\n",
      "Maximum number of queries in a day: 50617\n",
      "Minimum number of queries in a day: 347\n",
      "Average number of queries in a day: 37513.065217391304\n"
     ]
    }
   ],
   "source": [
    "#Answers to Questions:\n",
    "\n",
    "#Exploratory Analysis\n",
    "\n",
    "#a) Relevant metrics\n",
    "\n",
    "print(\"Total number of queries logged in the given dataset:\", dsChallengeDF.shape[0])\n",
    "print(\"Total unique Queries:\", (dsChallengeDF['Query']).nunique())\n",
    "print(\"Total unique URLS:\", (dsChallengeDF['ClickURL']).nunique())\n",
    "print(\"Total number of users (unique):\",(dsChallengeDF['AnonID']).nunique())\n",
    "print(\"Average query per user:\",dsChallengeDF.shape[0]/len(set(dsChallengeDF['AnonID'])))\n",
    "print(\"Total number of queries with click events:\",dsChallengeDF['Click'].sum())\n",
    "print(\"Total number of queries without click events:\",dsChallengeDF['ItemRank'].isnull().sum())\n",
    "print(\"Maximum number of queries in a day:\",dsChallengeDF['Query'].groupby(dsChallengeDF['QueryTime'].dt.date).count().max())\n",
    "print(\"Minimum number of queries in a day:\",dsChallengeDF['Query'].groupby(dsChallengeDF['QueryTime'].dt.date).count().min())\n",
    "print(\"Average number of queries in a day:\",dsChallengeDF['Query'].groupby(dsChallengeDF['QueryTime'].dt.date).count().mean())\n",
    "\n",
    "\n"
   ]
  },
  {
   "cell_type": "code",
   "execution_count": 26,
   "metadata": {},
   "outputs": [
    {
     "data": {
      "text/plain": [
       "<matplotlib.axes._subplots.AxesSubplot at 0x1e7b8909860>"
      ]
     },
     "execution_count": 26,
     "metadata": {},
     "output_type": "execute_result"
    },
    {
     "data": {
      "image/png": "[encoded data removed]",
      "text/plain": [
       "<matplotlib.figure.Figure at 0x1e7e5713278>"
      ]
     },
     "metadata": {},
     "output_type": "display_data"
    }
   ],
   "source": [
    "#Plots to find interesting insights\n",
    "dsChallengeDF.groupby(dsChallengeDF['QueryTime'].dt.date).size().plot()\n",
    "#The plot shows a dip in the number of queries on a day. Maintence activities on the search or downtime due to other issues could be the reason for the drop \n",
    "\n"
   ]
  },
  {
   "cell_type": "code",
   "execution_count": 27,
   "metadata": {},
   "outputs": [
    {
     "data": {
      "text/plain": [
       "<matplotlib.axes._subplots.AxesSubplot at 0x1e7b8cfdeb8>"
      ]
     },
     "execution_count": 27,
     "metadata": {},
     "output_type": "execute_result"
    },
    {
     "data": {
      "image/png": "[encoded data removed]",
      "text/plain": [
       "<matplotlib.figure.Figure at 0x1e7b89185c0>"
      ]
     },
     "metadata": {},
     "output_type": "display_data"
    }
   ],
   "source": [
    "dsChallengeDF.groupby(dsChallengeDF['weedkayCorrected']).size().plot(kind='bar')\n",
    "#The plot shows the highest number of searches occured on \"Sundays\" followed by \"Monday\". More ads on these days are recommended \n"
   ]
  },
  {
   "cell_type": "code",
   "execution_count": 28,
   "metadata": {},
   "outputs": [
    {
     "data": {
      "text/plain": [
       "<matplotlib.axes._subplots.AxesSubplot at 0x1e7c7c2a390>"
      ]
     },
     "execution_count": 28,
     "metadata": {},
     "output_type": "execute_result"
    },
    {
     "data": {
      "image/png": "[encoded data removed]",
      "text/plain": [
       "<matplotlib.figure.Figure at 0x1e7b8df3588>"
      ]
     },
     "metadata": {},
     "output_type": "display_data"
    }
   ],
   "source": [
    "dsChallengeDF.groupby(dsChallengeDF['TimeOfDay']).size().plot(kind='bar')\n",
    "#The plot shows the highest number of searches occured in the \"evening\" followed by \"night\". More ads during evening time is beneficial \n",
    "\n"
   ]
  },
  {
   "cell_type": "code",
   "execution_count": 22,
   "metadata": {},
   "outputs": [
    {
     "name": "stdout",
     "output_type": "stream",
     "text": [
      "Percentage of searches with spelling mistakes: 36.73111570983095\n"
     ]
    },
    {
     "data": {
      "text/plain": [
       "weedkayCorrected  Click\n",
       "Friday            0        213345\n",
       "                  1        235623\n",
       "Monday            0        243922\n",
       "                  1        273600\n",
       "Saturday          0        225247\n",
       "                  1        249248\n",
       "Sunday            0        249686\n",
       "                  1        273631\n",
       "Thursday          0        241456\n",
       "                  1        245444\n",
       "Tuesday           0        253080\n",
       "                  1        247147\n",
       "Wednesday         0        240505\n",
       "                  1        259268\n",
       "dtype: int64"
      ]
     },
     "execution_count": 22,
     "metadata": {},
     "output_type": "execute_result"
    }
   ],
   "source": [
    "print(\"Percentage of searches with spelling mistakes:\",(dsChallengeDF['is_missSpelled'].sum()/dsChallengeDF.shape[0])*100)\n",
    "\n",
    "dsChallengeDF.groupby([dsChallengeDF['weedkayCorrected'],dsChallengeDF['Click']]).size()\n",
    "#Sunday and Monday have the highest number of instances of user clicking on the url\n",
    "\n"
   ]
  },
  {
   "cell_type": "code",
   "execution_count": 23,
   "metadata": {},
   "outputs": [
    {
     "data": {
      "text/plain": [
       "TimeOfDay  Click\n",
       "afternoon  0        244611\n",
       "           1        265429\n",
       "evening    0        637322\n",
       "           1        658475\n",
       "morning    0        264665\n",
       "           1        309085\n",
       "night      0        520643\n",
       "           1        550972\n",
       "dtype: int64"
      ]
     },
     "execution_count": 23,
     "metadata": {},
     "output_type": "execute_result"
    }
   ],
   "source": [
    "dsChallengeDF.groupby([dsChallengeDF['TimeOfDay'],dsChallengeDF['Click']]).size()\n",
    "#EVening time has the highest number of instances of user clicking on the url\n",
    "\n"
   ]
  },
  {
   "cell_type": "code",
   "execution_count": 24,
   "metadata": {},
   "outputs": [
    {
     "data": {
      "text/plain": [
       "NumOfWords  Click\n",
       "1           0        789666\n",
       "            1        478062\n",
       "2           0        390703\n",
       "            1        477884\n",
       "3           0        221440\n",
       "            1        371889\n",
       "4           0        122203\n",
       "            1        224427\n",
       "5           0         65826\n",
       "            1        117945\n",
       "6           0         34400\n",
       "            1         56824\n",
       "7           0         17771\n",
       "            1         27604\n",
       "8           0          9456\n",
       "            1         13316\n",
       "9           0          5544\n",
       "            1          6871\n",
       "10          0          3207\n",
       "            1          3838\n",
       "11          0          1825\n",
       "            1          2043\n",
       "12          0          1175\n",
       "            1          1145\n",
       "13          0           802\n",
       "            1           609\n",
       "14          0           522\n",
       "            1           386\n",
       "15          0           394\n",
       "            1           270\n",
       "                      ...  \n",
       "59          0            15\n",
       "60          0             8\n",
       "61          0             3\n",
       "62          0             5\n",
       "63          0             4\n",
       "64          0             2\n",
       "65          0             1\n",
       "67          0             2\n",
       "68          0             1\n",
       "70          0             3\n",
       "71          0             2\n",
       "77          0             1\n",
       "78          0             3\n",
       "79          1             1\n",
       "82          0             2\n",
       "83          0             1\n",
       "85          0             1\n",
       "86          0             7\n",
       "87          0             2\n",
       "88          0            16\n",
       "89          0             1\n",
       "92          0             1\n",
       "95          0             1\n",
       "            1             2\n",
       "100         0             2\n",
       "101         0             1\n",
       "107         0             2\n",
       "150         0             1\n",
       "151         0             1\n",
       "162         0             1\n",
       "Length: 143, dtype: int64"
      ]
     },
     "execution_count": 24,
     "metadata": {},
     "output_type": "execute_result"
    }
   ],
   "source": [
    "dsChallengeDF.groupby([dsChallengeDF['NumOfWords'],dsChallengeDF['Click']]).size()\n",
    "#lesser the number of words in the search higher, the instances of navigating to the url"
   ]
  },
  {
   "cell_type": "code",
   "execution_count": 29,
   "metadata": {
    "collapsed": true
   },
   "outputs": [],
   "source": [
    "#e) Queries leading to click\n",
    "\n",
    "df1 = dsChallengeDF[['Query','ItemRank','NumOfWords','is_missSpelled']]\n",
    "df1= df1.loc[df1['is_missSpelled']==0]\n",
    "df1 = df1.loc[df1['NumOfWords'] <5]\n",
    "df1.sort_values(['NumOfWords']).head(20)\n",
    "#Queries that have  NumOfWords <5 always lead to click\n",
    "\n",
    "#f) Which queries doen't seem to have relevant results\n",
    "df = dsChallengeDF[['Query','ItemRank','NumOfWords']]\n",
    "df.sort_values(['ItemRank'], ascending = False).head(20)\n",
    "#Those queries that have higher rank don't seem to have relevant results\n"
   ]
  },
  {
   "cell_type": "code",
   "execution_count": 32,
   "metadata": {},
   "outputs": [
    {
     "ename": "KeyboardInterrupt",
     "evalue": "",
     "output_type": "error",
     "traceback": [
      "\u001b[1;31m---------------------------------------------------------------------------\u001b[0m",
      "\u001b[1;31mKeyboardInterrupt\u001b[0m                         Traceback (most recent call last)",
      "\u001b[1;32m<ipython-input-32-023875f482e0>\u001b[0m in \u001b[0;36m<module>\u001b[1;34m()\u001b[0m\n\u001b[0;32m     17\u001b[0m \u001b[1;33m\u001b[0m\u001b[0m\n\u001b[0;32m     18\u001b[0m     \u001b[1;32mfor\u001b[0m \u001b[0mwords\u001b[0m \u001b[1;32min\u001b[0m \u001b[0mtokens\u001b[0m\u001b[1;33m:\u001b[0m\u001b[1;33m\u001b[0m\u001b[0m\n\u001b[1;32m---> 19\u001b[1;33m         \u001b[0mcomment_words\u001b[0m \u001b[1;33m=\u001b[0m \u001b[0mcomment_words\u001b[0m \u001b[1;33m+\u001b[0m \u001b[0mwords\u001b[0m \u001b[1;33m+\u001b[0m \u001b[1;34m' '\u001b[0m\u001b[1;33m\u001b[0m\u001b[0m\n\u001b[0m\u001b[0;32m     20\u001b[0m \u001b[1;33m\u001b[0m\u001b[0m\n\u001b[0;32m     21\u001b[0m wordcloud = WordCloud(width = 800, height = 800, \n",
      "\u001b[1;31mKeyboardInterrupt\u001b[0m: "
     ]
    }
   ],
   "source": [
    "#c) common queries\n",
    "comment_words = ' '\n",
    "stopwords = set(STOPWORDS) \n",
    "  \n",
    "# iterate through the csv file \n",
    "for val in dsChallengeDF['Query']: \n",
    "      \n",
    "    # typecaste each val to string \n",
    "    val = str(val) \n",
    "  \n",
    "    # split the value \n",
    "    tokens = val.split() \n",
    "      \n",
    "    # Converts each token into lowercase \n",
    "    for i in range(len(tokens)): \n",
    "        tokens[i] = tokens[i].lower() \n",
    "          \n",
    "    for words in tokens: \n",
    "        comment_words = comment_words + words + ' '\n",
    "\n",
    "wordcloud = WordCloud(width = 800, height = 800, \n",
    "            background_color ='white', \n",
    "            stopwords = stopwords, \n",
    "            min_font_size = 10).generate(comment_words) \n",
    "  \n",
    "# plot the WordCloud image                        \n",
    "plt.figure(figsize = (8, 8), facecolor = None) \n",
    "plt.imshow(wordcloud) \n",
    "plt.axis(\"off\") \n",
    "plt.tight_layout(pad = 0) \n",
    "plt.show() \n",
    "\n",
    "#The most common queries are Google, Ebay, Yahpp, myspace, and mapquest#d) \n"
   ]
  },
  {
   "cell_type": "code",
   "execution_count": null,
   "metadata": {
    "collapsed": true
   },
   "outputs": [],
   "source": [
    "#d) Queries leading to no click\n",
    "dsChallengeDF.groupby([dsChallengeDF['NumOfWords'],dsChallengeDF['Click']]).size()\n",
    "dsChallengeDF.groupby([dsChallengeDF['is_missSpelled'],dsChallengeDF['Click']]).size()\n",
    "df = dsChallengeDF[['Query','ItemRank','NumOfWords','Click']]\n",
    "df.sort_values(['ItemRank']).head(10)\n",
    "#Only 14% of the queries that are misspelled had clicks\n",
    "#Queries that has number of words higher than 10 and queries that have spelling mistakes\n",
    "#Queries with Item Rank 0 has always led to a click\n"
   ]
  },
  {
   "cell_type": "code",
   "execution_count": null,
   "metadata": {
    "collapsed": true
   },
   "outputs": [],
   "source": [
    "#e) Queries leading to click\n",
    "\n",
    "df1 = dsChallengeDF[['Query','ItemRank','NumOfWords','is_missSpelled']]\n",
    "df1= df1.loc[df1['is_missSpelled']==0]\n",
    "df1 = df1.loc[df1['NumOfWords'] <5]\n",
    "df1.sort_values(['NumOfWords']).head(20)\n",
    "#Queries that have  NumOfWords <5 always lead to click\n"
   ]
  },
  {
   "cell_type": "code",
   "execution_count": null,
   "metadata": {
    "collapsed": true
   },
   "outputs": [],
   "source": [
    "#f) Which queries doen't seem to have relevant results\n",
    "df = dsChallengeDF[['Query','ItemRank','NumOfWords']]\n",
    "df.sort_values(['ItemRank'], ascending = False).head(20)\n",
    "#Those queries that have higher rank don't seem to have relevant results\n"
   ]
  },
  {
   "cell_type": "code",
   "execution_count": null,
   "metadata": {
    "collapsed": true
   },
   "outputs": [],
   "source": [
    "#h)common URL\n",
    "comment_words = ' '\n",
    "stopwords = set(STOPWORDS) \n",
    "  \n",
    "# iterate through the csv file \n",
    "for val in dsChallengeDF['ClickURL']: \n",
    "      \n",
    "    # typecaste each val to string \n",
    "    val = str(val) \n",
    "  \n",
    "    # split the value \n",
    "    tokens = val.split() \n",
    "      \n",
    "    # Converts each token into lowercase \n",
    "    for i in range(len(tokens)): \n",
    "        tokens[i] = tokens[i].lower() \n",
    "          \n",
    "    for words in tokens: \n",
    "        comment_words = comment_words + words + ' '\n",
    "  \n",
    "  \n",
    "wordcloud = WordCloud(width = 800, height = 800, \n",
    "            background_color ='white', \n",
    "            stopwords = stopwords, \n",
    "            min_font_size = 10).generate(comment_words) \n",
    "  \n",
    "# plot the WordCloud image                        \n",
    "plt.figure(figsize = (8, 8), facecolor = None) \n",
    "plt.imshow(wordcloud) \n",
    "plt.axis(\"off\") \n",
    "plt.tight_layout(pad = 0) \n",
    "plt.show() \n",
    "\n",
    "#Websites such as ... are the commonly searched websites"
   ]
  },
  {
   "cell_type": "code",
   "execution_count": null,
   "metadata": {
    "collapsed": true
   },
   "outputs": [],
   "source": [
    "#Clustering Analysis\n",
    "\n",
    "#a) How will I cluster users?\n",
    "#Potential respondants to advertisements vs others\n",
    "#Based on the time of the day - Active hours - Students - evening/night, kids - Afternoon and evening,\n",
    "#housewife - Afternoon and evening\n",
    "#those who search with short query vs long query\n",
    "#Based on the search content - Queries have to categorized into eg. kids search, teenager, adult\n",
    "\n",
    "\n",
    "#b) Features considered\n",
    "#I will consider the following features\n",
    "#Time of the day, \n",
    "#number of words in a query\n",
    "#Misspelled or not\n",
    "\n",
    "\n",
    "#c) Clustering algorithm\n",
    "#I will use kmeans clustering as it doesn't require our data to be distributed normally\n",
    "#It is the most effective algorithm\n",
    "#Easy to implement\n",
    "#Works well with ordinal and nominal data too\n",
    "\n",
    "\n",
    "#d)Choosing the right number of clusters\n",
    "#I will use Elbow method to choose the optimum number of clusters\n",
    "#Elbow method -> sum of square errors -vs number of clusters\n",
    "\n",
    "\n",
    "#e) Distance metrics for clustering\n",
    "#I will use Mahalanobis distance\n",
    "#It takes covariance into consideration which lead tp elliptical decision boundaries\n",
    "#Euclidean distance works well in a dataset which contains same units across all the input variables\n",
    "\n"
   ]
  },
  {
   "cell_type": "code",
   "execution_count": null,
   "metadata": {
    "collapsed": true
   },
   "outputs": [],
   "source": [
    "#Classification\n",
    "def timeOfDay1(x):\n",
    "    if x>6 and x<=11:\n",
    "        return \"0\"\n",
    "    elif x>11 and x <15:\n",
    "        return \"1\"\n",
    "    elif x>=15 and x <=20:\n",
    "        return \"2\"\n",
    "    else: \n",
    "        return \"3\"\n",
    "    \n",
    "dsChallengeDF['TimeOfDayCorrected'] = dsChallengeDF['QueryTime'].dt.hour.apply(lambda row: timeOfDay1(row))    \n",
    "#Creation of a column with Number of words in the query as values\n",
    "\n",
    "xFrame = dsChallengeDF[['NumOfWords','is_missSpelled','weekday','TimeOfDayCorrected']]\n",
    "\n",
    "yFrame = dsChallengeDF[['Click']]\n",
    "\n",
    "#TrainTest Split\n",
    "xTrain, xTest, yTrain, yTest = train_test_split(xFrame, yFrame, test_size = 0.2, random_state = 0)\n",
    "\n",
    "#Random Forest Classifier\n",
    "clf = RandomForestClassifier(n_estimators=100, max_depth=2,random_state=0)\n",
    "clf = clf.fit(xTrain, yTrain)\n",
    "y_pred = clf.predict(xTest)\n",
    "y_pred = pd.DataFrame(y_pred)\n",
    "confusion_matrix(yTest, y_pred)\n",
    "tn, fp, fn, tp = confusion_matrix(yTest, y_pred).ravel()\n",
    "\n",
    "print('Accuracy:',(tp+tn)/(tp+tn+fp+fn))\n",
    "print('sensitivity:', (tp/(tp+fn)))\n",
    "print('Specificity:', (tn/(tn+fp)))\n",
    "\n",
    "#Accuracy of the prediction model is 60.6%\n",
    "#Sensitivity is good\n",
    "#specificity is relatively low\n",
    "#That is only 47% of the click not occuring condition has been captured out of the entire dataset.\n",
    "\n",
    "#b)\n",
    "#I have dereived features such as \n",
    "    #NumOfWords and is_missSpelled from \"Query\", \n",
    "    #weekday and TimeOfDayCorrected from \"QueryTime\"\n",
    "#for the analysis\n",
    "    \n",
    "\n",
    "#c) I consider multiple factors while deciding on the right models to build. They are\n",
    "    #Data type of the target variable\n",
    "    #Linearity of the data\n",
    "    #Data type of the input variables\n",
    "    #Distribution of the target variable\n",
    "    #balance of the data\n",
    "\t#Distribution of the error \n",
    "    \n",
    "    \n",
    "#d) I use k fold cross validation method with k value as 5.\n",
    "    \n",
    "    \n",
    "#e) Metrics to support the reliability of the model:\n",
    "    #R Squared\n",
    "    #Accuracy of the model\n",
    "    #Sensitivity\n",
    "    #Specificity\n",
    "    #Precision\n",
    "    #ROC curve\n",
    "    #p-value\n",
    "        "
   ]
  },
  {
   "cell_type": "code",
   "execution_count": null,
   "metadata": {
    "collapsed": true
   },
   "outputs": [],
   "source": []
  },
  {
   "cell_type": "code",
   "execution_count": null,
   "metadata": {
    "collapsed": true
   },
   "outputs": [],
   "source": []
  }
 ],
 "metadata": {
  "kernelspec": {
   "display_name": "Python 3",
   "language": "python",
   "name": "python3"
  },
  "language_info": {
   "codemirror_mode": {
    "name": "ipython",
    "version": 3
   },
   "file_extension": ".py",
   "mimetype": "text/x-python",
   "name": "python",
   "nbconvert_exporter": "python",
   "pygments_lexer": "ipython3",
   "version": "3.6.3"
  }
 },
 "nbformat": 4,
 "nbformat_minor": 2
}
